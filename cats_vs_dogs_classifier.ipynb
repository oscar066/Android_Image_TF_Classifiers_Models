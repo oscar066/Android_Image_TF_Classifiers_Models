{
 "cells": [
  {
   "cell_type": "code",
   "execution_count": 8,
   "metadata": {},
   "outputs": [],
   "source": [
    "import os\n",
    "import shutil\n",
    "\n",
    "original_dataset_dir = '/Users/oscar/Downloads/dogs-vs-cats/train/'\n",
    "\n",
    "base_dir = '/Users/oscar/Downloads/cats_and_dogs_small'\n",
    "os.makedirs(base_dir, exist_ok=True)\n",
    "\n",
    "train_dir = os.path.join(base_dir, 'train')\n",
    "os.makedirs(train_dir, exist_ok=True)\n",
    "\n",
    "validation_dir = os.path.join(base_dir, 'validation')\n",
    "os.makedirs(validation_dir, exist_ok=True)\n",
    "\n",
    "test_dir = os.path.join(base_dir, 'test')\n",
    "os.makedirs(test_dir, exist_ok=True)\n",
    "\n",
    "train_cats_dir = os.path.join(train_dir, 'cats')\n",
    "os.makedirs(train_cats_dir, exist_ok=True)\n",
    "\n",
    "train_dogs_dir = os.path.join(train_dir, 'dogs')\n",
    "os.makedirs(train_dogs_dir, exist_ok=True)\n",
    "\n",
    "validation_cats_dir = os.path.join(validation_dir, 'cats')\n",
    "os.makedirs(validation_cats_dir, exist_ok=True)\n",
    "\n",
    "validation_dogs_dir = os.path.join(validation_dir, 'dogs')\n",
    "os.makedirs(validation_dogs_dir, exist_ok=True)\n",
    "\n",
    "test_cats_dir = os.path.join(test_dir, 'cats')\n",
    "os.makedirs(test_cats_dir, exist_ok=True)\n",
    "\n",
    "test_dogs_dir = os.path.join(test_dir, 'dogs')\n",
    "os.makedirs(test_dogs_dir, exist_ok=True)\n",
    "\n",
    "# Copy the first 1000 cat images to train_cats_dir\n",
    "fnames = ['cat.{}.jpg'.format(i) for i in range(1000)]\n",
    "for fname in fnames:\n",
    "    src = os.path.join(original_dataset_dir, fname)\n",
    "    dst = os.path.join(train_cats_dir, fname)\n",
    "    shutil.copyfile(src, dst)\n",
    "\n",
    "# Copy the next 500 cat images to validation_cats_dir\n",
    "fnames = ['cat.{}.jpg'.format(i) for i in range(1000, 1500)]\n",
    "for fname in fnames:\n",
    "    src = os.path.join(original_dataset_dir, fname)\n",
    "    dst = os.path.join(validation_cats_dir, fname)\n",
    "    shutil.copyfile(src, dst)\n",
    "\n",
    "# Copy the next 500 cat images to test_cats_dir\n",
    "fnames = ['cat.{}.jpg'.format(i) for i in range(1500, 2000)]\n",
    "for fname in fnames:\n",
    "    src = os.path.join(original_dataset_dir,  fname)\n",
    "    dst = os.path.join(test_cats_dir, fname)\n",
    "    shutil.copyfile(src, dst)\n",
    "\n",
    "# Copy the first 1000 dog images to train_dogs_dir\n",
    "fnames = ['dog.{}.jpg'.format(i) for i in range(1000)]\n",
    "for fname in fnames:\n",
    "    src = os.path.join(original_dataset_dir, fname)\n",
    "    dst = os.path.join(train_dogs_dir, fname)\n",
    "    shutil.copyfile(src, dst)\n",
    "\n",
    "# Copy the next 500 dog images to validation_dogs_dir\n",
    "fnames = ['dog.{}.jpg'.format(i) for i in range(1000, 1500)]\n",
    "for fname in fnames:\n",
    "    src = os.path.join(original_dataset_dir, fname)\n",
    "    dst = os.path.join(validation_dogs_dir, fname)\n",
    "    shutil.copyfile(src, dst)\n",
    "\n",
    "# Copy the next 500 dog images to test_dogs_dir\n",
    "fnames = ['dog.{}.jpg'.format(i) for i in range(1500, 2000)]\n",
    "for fname in fnames:\n",
    "    src = os.path.join(original_dataset_dir, fname)\n",
    "    dst = os.path.join(test_dogs_dir, fname)\n",
    "    shutil.copyfile(src, dst)\n"
   ]
  },
  {
   "cell_type": "code",
   "execution_count": 9,
   "metadata": {},
   "outputs": [
    {
     "name": "stdout",
     "output_type": "stream",
     "text": [
      "total training cat images: 1000\n",
      "total training dog images: 1000\n",
      "total validation cat images: 500\n",
      "total validation dog images: 500\n",
      "total test cat images: 500\n",
      "total test dog images: 500\n"
     ]
    }
   ],
   "source": [
    "# Sanity check\n",
    "print('total training cat images:', len(os.listdir(train_cats_dir)))\n",
    "print('total training dog images:', len(os.listdir(train_dogs_dir)))\n",
    "print('total validation cat images:', len(os.listdir(validation_cats_dir)))\n",
    "print('total validation dog images:', len(os.listdir(validation_dogs_dir)))\n",
    "print('total test cat images:', len(os.listdir(test_cats_dir)))\n",
    "print('total test dog images:', len(os.listdir(test_dogs_dir)))"
   ]
  },
  {
   "cell_type": "code",
   "execution_count": 10,
   "metadata": {},
   "outputs": [
    {
     "name": "stdout",
     "output_type": "stream",
     "text": [
      "Model: \"sequential_1\"\n",
      "_________________________________________________________________\n",
      " Layer (type)                Output Shape              Param #   \n",
      "=================================================================\n",
      " conv2d_4 (Conv2D)           (None, 148, 148, 32)      896       \n",
      "                                                                 \n",
      " max_pooling2d_4 (MaxPooling  (None, 74, 74, 32)       0         \n",
      " 2D)                                                             \n",
      "                                                                 \n",
      " conv2d_5 (Conv2D)           (None, 72, 72, 64)        18496     \n",
      "                                                                 \n",
      " max_pooling2d_5 (MaxPooling  (None, 36, 36, 64)       0         \n",
      " 2D)                                                             \n",
      "                                                                 \n",
      " conv2d_6 (Conv2D)           (None, 34, 34, 128)       73856     \n",
      "                                                                 \n",
      " max_pooling2d_6 (MaxPooling  (None, 17, 17, 128)      0         \n",
      " 2D)                                                             \n",
      "                                                                 \n",
      " conv2d_7 (Conv2D)           (None, 15, 15, 128)       147584    \n",
      "                                                                 \n",
      " max_pooling2d_7 (MaxPooling  (None, 7, 7, 128)        0         \n",
      " 2D)                                                             \n",
      "                                                                 \n",
      " flatten_1 (Flatten)         (None, 6272)              0         \n",
      "                                                                 \n",
      " dense_2 (Dense)             (None, 512)               3211776   \n",
      "                                                                 \n",
      " dense_3 (Dense)             (None, 1)                 513       \n",
      "                                                                 \n",
      "=================================================================\n",
      "Total params: 3,453,121\n",
      "Trainable params: 3,453,121\n",
      "Non-trainable params: 0\n",
      "_________________________________________________________________\n"
     ]
    }
   ],
   "source": [
    "# instantiating a small convnet for dogs vs. cats classification\n",
    "\n",
    "from keras import layers\n",
    "from keras import models\n",
    "\n",
    "model = models.Sequential()\n",
    "model.add(layers.Conv2D(32, (3, 3), activation='relu', input_shape=(150, 150, 3)))\n",
    "model.add(layers.MaxPooling2D(2, 2))\n",
    "model.add(layers.Conv2D(64, (3, 3), activation='relu'))\n",
    "model.add(layers.MaxPooling2D(2, 2))\n",
    "model.add(layers.Conv2D(128, (3, 3), activation='relu'))\n",
    "model.add(layers.MaxPooling2D(2, 2))\n",
    "model.add(layers.Conv2D(128, (3, 3), activation='relu'))\n",
    "model.add(layers.MaxPooling2D(2, 2))\n",
    "model.add(layers.Flatten())\n",
    "model.add(layers.Dense(512, activation='relu'))\n",
    "model.add(layers.Dense(1, activation='sigmoid'))\n",
    "\n",
    "model.summary()"
   ]
  },
  {
   "cell_type": "code",
   "execution_count": 11,
   "metadata": {},
   "outputs": [
    {
     "name": "stderr",
     "output_type": "stream",
     "text": [
      "/Users/oscar/opt/anaconda3/envs/data/lib/python3.9/site-packages/keras/optimizers/optimizer_v2/rmsprop.py:140: UserWarning: The `lr` argument is deprecated, use `learning_rate` instead.\n",
      "  super().__init__(name, **kwargs)\n"
     ]
    }
   ],
   "source": [
    "from keras import optimizers\n",
    "\n",
    "model.compile(loss='binary_crossentropy',\n",
    "              optimizer=optimizers.RMSprop(lr=1e-4),\n",
    "              metrics=['acc'])"
   ]
  },
  {
   "cell_type": "code",
   "execution_count": 12,
   "metadata": {},
   "outputs": [
    {
     "name": "stdout",
     "output_type": "stream",
     "text": [
      "Found 2000 images belonging to 2 classes.\n",
      "Found 1000 images belonging to 2 classes.\n"
     ]
    }
   ],
   "source": [
    "from keras.preprocessing.image import ImageDataGenerator\n",
    "\n",
    "train_datagen = ImageDataGenerator(rescale=1./255)\n",
    "test_datagen = ImageDataGenerator(rescale=1./255)\n",
    "\n",
    "train_generator = train_datagen.flow_from_directory(\n",
    "    train_dir,\n",
    "    target_size=(150, 150),\n",
    "    batch_size=20,\n",
    "    class_mode='binary'\n",
    ")\n",
    "\n",
    "validation_generator = test_datagen.flow_from_directory(\n",
    "    validation_dir,\n",
    "    target_size=(150, 150),\n",
    "    batch_size=20,\n",
    "    class_mode='binary'\n",
    ")"
   ]
  },
  {
   "cell_type": "code",
   "execution_count": 13,
   "metadata": {},
   "outputs": [
    {
     "name": "stdout",
     "output_type": "stream",
     "text": [
      "Data batch shape: (20, 150, 150, 3)\n",
      "Labels batch shape: (20,)\n"
     ]
    }
   ],
   "source": [
    "for data_batch , label_batch in train_generator:\n",
    "    print('Data batch shape:', data_batch.shape)\n",
    "    print('Labels batch shape:', label_batch.shape)\n",
    "    break"
   ]
  },
  {
   "cell_type": "code",
   "execution_count": 14,
   "metadata": {},
   "outputs": [
    {
     "name": "stderr",
     "output_type": "stream",
     "text": [
      "/var/folders/5k/1gm98l3s7l541jt9yyg0qb6w0000gn/T/ipykernel_45604/312136197.py:1: UserWarning: `Model.fit_generator` is deprecated and will be removed in a future version. Please use `Model.fit`, which supports generators.\n",
      "  history = model.fit_generator(\n"
     ]
    },
    {
     "name": "stdout",
     "output_type": "stream",
     "text": [
      "Epoch 1/30\n",
      "100/100 [==============================] - 83s 812ms/step - loss: 0.6935 - acc: 0.5320 - val_loss: 0.6816 - val_acc: 0.5530\n",
      "Epoch 2/30\n",
      "100/100 [==============================] - 78s 778ms/step - loss: 0.6575 - acc: 0.6215 - val_loss: 0.6466 - val_acc: 0.6080\n",
      "Epoch 3/30\n",
      "100/100 [==============================] - 77s 770ms/step - loss: 0.6037 - acc: 0.6835 - val_loss: 0.6067 - val_acc: 0.6740\n",
      "Epoch 4/30\n",
      "100/100 [==============================] - 79s 786ms/step - loss: 0.5566 - acc: 0.7280 - val_loss: 0.5839 - val_acc: 0.6910\n",
      "Epoch 5/30\n",
      "100/100 [==============================] - 85s 848ms/step - loss: 0.5195 - acc: 0.7365 - val_loss: 0.5608 - val_acc: 0.6990\n",
      "Epoch 6/30\n",
      "100/100 [==============================] - 80s 798ms/step - loss: 0.5005 - acc: 0.7485 - val_loss: 0.5574 - val_acc: 0.6970\n",
      "Epoch 7/30\n",
      "100/100 [==============================] - 85s 844ms/step - loss: 0.4693 - acc: 0.7715 - val_loss: 0.5569 - val_acc: 0.7090\n",
      "Epoch 8/30\n",
      "100/100 [==============================] - 82s 820ms/step - loss: 0.4369 - acc: 0.7945 - val_loss: 0.5372 - val_acc: 0.7210\n",
      "Epoch 9/30\n",
      "100/100 [==============================] - 89s 892ms/step - loss: 0.4124 - acc: 0.8065 - val_loss: 0.5462 - val_acc: 0.7240\n",
      "Epoch 10/30\n",
      "100/100 [==============================] - 87s 831ms/step - loss: 0.3913 - acc: 0.8270 - val_loss: 0.5444 - val_acc: 0.7270\n",
      "Epoch 11/30\n",
      "100/100 [==============================] - 73s 728ms/step - loss: 0.3597 - acc: 0.8485 - val_loss: 0.6148 - val_acc: 0.7330\n",
      "Epoch 12/30\n",
      "100/100 [==============================] - 79s 792ms/step - loss: 0.3346 - acc: 0.8585 - val_loss: 0.5565 - val_acc: 0.7270\n",
      "Epoch 13/30\n",
      "100/100 [==============================] - 72s 716ms/step - loss: 0.3130 - acc: 0.8730 - val_loss: 0.5614 - val_acc: 0.7390\n",
      "Epoch 14/30\n",
      "100/100 [==============================] - 86s 863ms/step - loss: 0.2935 - acc: 0.8810 - val_loss: 0.5690 - val_acc: 0.7380\n",
      "Epoch 15/30\n",
      "100/100 [==============================] - 73s 733ms/step - loss: 0.2776 - acc: 0.8850 - val_loss: 0.5613 - val_acc: 0.7530\n",
      "Epoch 16/30\n",
      "100/100 [==============================] - 70s 705ms/step - loss: 0.2501 - acc: 0.8980 - val_loss: 0.5907 - val_acc: 0.7420\n",
      "Epoch 17/30\n",
      "100/100 [==============================] - 100s 1000ms/step - loss: 0.2325 - acc: 0.9040 - val_loss: 0.5933 - val_acc: 0.7460\n",
      "Epoch 18/30\n",
      "100/100 [==============================] - 86s 864ms/step - loss: 0.2028 - acc: 0.9205 - val_loss: 0.6178 - val_acc: 0.7480\n",
      "Epoch 19/30\n",
      "100/100 [==============================] - 87s 872ms/step - loss: 0.1864 - acc: 0.9295 - val_loss: 0.6149 - val_acc: 0.7530\n",
      "Epoch 20/30\n",
      "100/100 [==============================] - 149s 1s/step - loss: 0.1659 - acc: 0.9380 - val_loss: 0.6536 - val_acc: 0.7390\n",
      "Epoch 21/30\n",
      "100/100 [==============================] - 155s 2s/step - loss: 0.1492 - acc: 0.9490 - val_loss: 0.7688 - val_acc: 0.7300\n",
      "Epoch 22/30\n",
      "100/100 [==============================] - 96s 966ms/step - loss: 0.1220 - acc: 0.9615 - val_loss: 0.7612 - val_acc: 0.7300\n",
      "Epoch 23/30\n",
      "100/100 [==============================] - 98s 981ms/step - loss: 0.1162 - acc: 0.9595 - val_loss: 0.7418 - val_acc: 0.7340\n",
      "Epoch 24/30\n",
      "100/100 [==============================] - 107s 1s/step - loss: 0.1021 - acc: 0.9680 - val_loss: 0.7538 - val_acc: 0.7480\n",
      "Epoch 25/30\n",
      "100/100 [==============================] - 105s 1s/step - loss: 0.0862 - acc: 0.9740 - val_loss: 0.8011 - val_acc: 0.7400\n",
      "Epoch 26/30\n",
      "100/100 [==============================] - 99s 983ms/step - loss: 0.0730 - acc: 0.9815 - val_loss: 0.7964 - val_acc: 0.7410\n",
      "Epoch 27/30\n",
      "100/100 [==============================] - 106s 1s/step - loss: 0.0589 - acc: 0.9880 - val_loss: 0.8766 - val_acc: 0.7430\n",
      "Epoch 28/30\n",
      "100/100 [==============================] - 99s 995ms/step - loss: 0.0592 - acc: 0.9790 - val_loss: 0.9628 - val_acc: 0.7360\n",
      "Epoch 29/30\n",
      "100/100 [==============================] - 106s 1s/step - loss: 0.0396 - acc: 0.9910 - val_loss: 0.9848 - val_acc: 0.7360\n",
      "Epoch 30/30\n",
      "100/100 [==============================] - 105s 1s/step - loss: 0.0413 - acc: 0.9895 - val_loss: 0.9798 - val_acc: 0.7430\n"
     ]
    }
   ],
   "source": [
    "history = model.fit_generator(\n",
    "    train_generator,\n",
    "    steps_per_epoch=100,\n",
    "    epochs=30,\n",
    "    validation_data = validation_generator,\n",
    "    validation_steps=50\n",
    ")"
   ]
  },
  {
   "cell_type": "code",
   "execution_count": 15,
   "metadata": {},
   "outputs": [],
   "source": [
    "# saving the model\n",
    "model.save('cats_vs_dogs_small_v1.h5')"
   ]
  },
  {
   "cell_type": "code",
   "execution_count": 32,
   "metadata": {},
   "outputs": [
    {
     "name": "stderr",
     "output_type": "stream",
     "text": [
      "WARNING:absl:Found untraced functions such as _jit_compiled_convolution_op, _jit_compiled_convolution_op, _jit_compiled_convolution_op, _jit_compiled_convolution_op while saving (showing 4 of 4). These functions will not be directly callable after loading.\n"
     ]
    },
    {
     "name": "stdout",
     "output_type": "stream",
     "text": [
      "INFO:tensorflow:Assets written to: /var/folders/5k/1gm98l3s7l541jt9yyg0qb6w0000gn/T/tmpknkfp3al/assets\n"
     ]
    },
    {
     "name": "stderr",
     "output_type": "stream",
     "text": [
      "INFO:tensorflow:Assets written to: /var/folders/5k/1gm98l3s7l541jt9yyg0qb6w0000gn/T/tmpknkfp3al/assets\n",
      "2023-06-26 22:50:02.942872: W tensorflow/compiler/mlir/lite/python/tf_tfl_flatbuffer_helpers.cc:362] Ignored output_format.\n",
      "2023-06-26 22:50:02.943701: W tensorflow/compiler/mlir/lite/python/tf_tfl_flatbuffer_helpers.cc:365] Ignored drop_control_dependency.\n",
      "2023-06-26 22:50:02.965286: I tensorflow/cc/saved_model/reader.cc:45] Reading SavedModel from: /var/folders/5k/1gm98l3s7l541jt9yyg0qb6w0000gn/T/tmpknkfp3al\n",
      "2023-06-26 22:50:02.974640: I tensorflow/cc/saved_model/reader.cc:89] Reading meta graph with tags { serve }\n",
      "2023-06-26 22:50:02.974683: I tensorflow/cc/saved_model/reader.cc:130] Reading SavedModel debug info (if present) from: /var/folders/5k/1gm98l3s7l541jt9yyg0qb6w0000gn/T/tmpknkfp3al\n",
      "2023-06-26 22:50:03.003947: I tensorflow/compiler/mlir/mlir_graph_optimization_pass.cc:354] MLIR V1 optimization pass is not enabled\n",
      "2023-06-26 22:50:03.009605: I tensorflow/cc/saved_model/loader.cc:229] Restoring SavedModel bundle.\n",
      "2023-06-26 22:50:03.642891: I tensorflow/cc/saved_model/loader.cc:213] Running initialization op on SavedModel bundle at path: /var/folders/5k/1gm98l3s7l541jt9yyg0qb6w0000gn/T/tmpknkfp3al\n",
      "2023-06-26 22:50:03.736375: I tensorflow/cc/saved_model/loader.cc:305] SavedModel load for tags { serve }; Status: success: OK. Took 767140 microseconds.\n",
      "2023-06-26 22:50:03.931575: I tensorflow/compiler/mlir/tensorflow/utils/dump_mlir_util.cc:268] disabling MLIR crash reproducer, set env var `MLIR_CRASH_REPRODUCER_DIRECTORY` to enable.\n"
     ]
    }
   ],
   "source": [
    "import tensorflow as tf\n",
    "from tensorflow import keras\n",
    "\n",
    "# Load the Keras model\n",
    "model = keras.models.load_model('cats_vs_dogs_small_v1.h5')\n",
    "\n",
    "# Convert the model to TensorFlow Lite format\n",
    "converter = tf.lite.TFLiteConverter.from_keras_model(model)\n",
    "tflite_model = converter.convert()\n",
    "\n",
    "# Save the TensorFlow Lite model\n",
    "with open('cats_vs_dogs_small_v1.tflite', 'wb') as f:\n",
    "    f.write(tflite_model)"
   ]
  },
  {
   "cell_type": "code",
   "execution_count": 33,
   "metadata": {},
   "outputs": [
    {
     "data": {
      "image/png": "[encoded data removed]",
      "text/plain": [
       "<Figure size 640x480 with 1 Axes>"
      ]
     },
     "metadata": {},
     "output_type": "display_data"
    },
    {
     "data": {
      "image/png": "[encoded data removed]",
      "text/plain": [
       "<Figure size 640x480 with 1 Axes>"
      ]
     },
     "metadata": {},
     "output_type": "display_data"
    }
   ],
   "source": [
    "# displaying curves of loss and accuracy during training\n",
    "\n",
    "import matplotlib.pyplot as plt\n",
    "import seaborn as sns\n",
    "\n",
    "sns.set_style('darkgrid')\n",
    "\n",
    "acc = history.history['acc']\n",
    "val_acc = history.history['val_acc']\n",
    "loss = history.history['loss']\n",
    "val_loss = history.history['val_loss']\n",
    "\n",
    "epochs = range(1, len(acc) + 1)\n",
    "\n",
    "plt.plot(epochs, acc, 'bo', label='Training acc')\n",
    "plt.plot(epochs, val_acc, 'b', label='Validation acc')\n",
    "plt.title('Training and Validation accuracy')\n",
    "plt.legend()\n",
    "\n",
    "plt.figure()\n",
    "\n",
    "plt.plot(epochs, loss, 'bo', label='Training loss')\n",
    "plt.plot(epochs, val_loss, 'b', label='Validation loss')\n",
    "plt.title('Training and Validation loss')\n",
    "plt.legend()\n",
    "\n",
    "plt.show()"
   ]
  },
  {
   "attachments": {},
   "cell_type": "markdown",
   "metadata": {},
   "source": [
    "## Using Data Augmentation"
   ]
  },
  {
   "cell_type": "code",
   "execution_count": 34,
   "metadata": {},
   "outputs": [],
   "source": [
    "datagen = ImageDataGenerator(\n",
    "    rotation_range=40,\n",
    "    width_shift_range=0.2,\n",
    "    height_shift_range=0.2,\n",
    "    shear_range=0.2,\n",
    "    zoom_range=0.2,\n",
    "    horizontal_flip=True,\n",
    "    fill_mode='nearest'\n",
    ")"
   ]
  },
  {
   "cell_type": "code",
   "execution_count": 60,
   "metadata": {},
   "outputs": [],
   "source": [
    "from PIL import Image\n",
    "from matplotlib import image"
   ]
  },
  {
   "cell_type": "code",
   "execution_count": null,
   "metadata": {},
   "outputs": [],
   "source": [
    "from keras_preprocessing.image import load_img, img_to_array\n",
    "\n",
    "\n",
    "fnames = [os.path.join(train_cats_dir, fname) for fname in os.listdir(train_cats_dir)]\n",
    "\n",
    "img_path = fname[3]\n",
    "\n",
    "img = image.load_img(img_path, target_size=(150, 150))\n",
    "\n",
    "x = image.img_to_array(img)\n",
    "\n",
    "x = x.reshape((1,) + x.shape)\n",
    "\n",
    "i = 0\n",
    "for batch in datagen.flow(x, batch_size=1):\n",
    "    plt.figure(i)\n",
    "    imgplot = plt.imshow(image.array_to_img(batch[10]))\n",
    "    i += 1\n",
    "    if i % 4 == 0:\n",
    "        break\n",
    "\n",
    "plt.show()"
   ]
  },
  {
   "cell_type": "code",
   "execution_count": 39,
   "metadata": {},
   "outputs": [
    {
     "name": "stdout",
     "output_type": "stream",
     "text": [
      "Model: \"sequential_4\"\n",
      "_________________________________________________________________\n",
      " Layer (type)                Output Shape              Param #   \n",
      "=================================================================\n",
      " conv2d_10 (Conv2D)          (None, 148, 148, 32)      896       \n",
      "                                                                 \n",
      " max_pooling2d_8 (MaxPooling  (None, 74, 74, 32)       0         \n",
      " 2D)                                                             \n",
      "                                                                 \n",
      " conv2d_11 (Conv2D)          (None, 72, 72, 64)        18496     \n",
      "                                                                 \n",
      " max_pooling2d_9 (MaxPooling  (None, 36, 36, 64)       0         \n",
      " 2D)                                                             \n",
      "                                                                 \n",
      " conv2d_12 (Conv2D)          (None, 34, 34, 128)       73856     \n",
      "                                                                 \n",
      " max_pooling2d_10 (MaxPoolin  (None, 17, 17, 128)      0         \n",
      " g2D)                                                            \n",
      "                                                                 \n",
      " conv2d_13 (Conv2D)          (None, 15, 15, 128)       147584    \n",
      "                                                                 \n",
      " max_pooling2d_11 (MaxPoolin  (None, 7, 7, 128)        0         \n",
      " g2D)                                                            \n",
      "                                                                 \n",
      " flatten_2 (Flatten)         (None, 6272)              0         \n",
      "                                                                 \n",
      " dropout (Dropout)           (None, 6272)              0         \n",
      "                                                                 \n",
      " dense_4 (Dense)             (None, 512)               3211776   \n",
      "                                                                 \n",
      " dense_5 (Dense)             (None, 1)                 513       \n",
      "                                                                 \n",
      "=================================================================\n",
      "Total params: 3,453,121\n",
      "Trainable params: 3,453,121\n",
      "Non-trainable params: 0\n",
      "_________________________________________________________________\n"
     ]
    }
   ],
   "source": [
    "# Defining a new convnet that includes dropout\n",
    "from tensorflow.keras import models, layers\n",
    "\n",
    "model = models.Sequential()\n",
    "\n",
    "model.add(layers.Conv2D(32, (3, 3), activation='relu', input_shape=(150, 150, 3)))\n",
    "model.add(layers.MaxPooling2D((2, 2)))\n",
    "\n",
    "model.add(layers.Conv2D(64, (3, 3), activation='relu'))\n",
    "model.add(layers.MaxPooling2D((2, 2)))\n",
    "\n",
    "model.add(layers.Conv2D(128, (3, 3), activation='relu'))\n",
    "model.add(layers.MaxPooling2D((2, 2)))\n",
    "\n",
    "model.add(layers.Conv2D(128, (3, 3), activation='relu'))\n",
    "model.add(layers.MaxPooling2D((2, 2)))\n",
    "\n",
    "model.add(layers.Flatten())\n",
    "model.add(layers.Dropout(0.5))\n",
    "\n",
    "model.add(layers.Dense(512, activation='relu'))\n",
    "model.add(layers.Dense(1, activation='sigmoid'))\n",
    "\n",
    "model.summary()"
   ]
  },
  {
   "cell_type": "code",
   "execution_count": 40,
   "metadata": {},
   "outputs": [
    {
     "name": "stderr",
     "output_type": "stream",
     "text": [
      "/Users/oscar/opt/anaconda3/envs/data/lib/python3.9/site-packages/keras/optimizers/optimizer_v2/rmsprop.py:140: UserWarning: The `lr` argument is deprecated, use `learning_rate` instead.\n",
      "  super().__init__(name, **kwargs)\n"
     ]
    }
   ],
   "source": [
    "model.compile(\n",
    "    loss='binary_crossentropy',\n",
    "    optimizer=optimizers.RMSprop(lr=1e-4),\n",
    "    metrics=['acc']\n",
    ")"
   ]
  },
  {
   "cell_type": "code",
   "execution_count": 43,
   "metadata": {},
   "outputs": [
    {
     "name": "stdout",
     "output_type": "stream",
     "text": [
      "Found 2000 images belonging to 2 classes.\n",
      "Found 1000 images belonging to 2 classes.\n"
     ]
    }
   ],
   "source": [
    "# Training the convnet using data-augmentation\n",
    "\n",
    "train_datagen = ImageDataGenerator(\n",
    "    rescale=1./255,\n",
    "    rotation_range=40,\n",
    "    width_shift_range=0.2,\n",
    "    height_shift_range=0.2,\n",
    "    shear_range=0.2,\n",
    "    zoom_range=0.2,\n",
    "    horizontal_flip=True\n",
    ")\n",
    "\n",
    "test_datagen = ImageDataGenerator(rescale=1./255)\n",
    "\n",
    "train_datagen = train_datagen.flow_from_directory(\n",
    "    train_dir,\n",
    "    target_size=(150, 150),\n",
    "    batch_size=32,\n",
    "    class_mode='binary'\n",
    ")\n",
    "\n",
    "validation_datagen = test_datagen.flow_from_directory(\n",
    "    validation_dir,\n",
    "    target_size=(150, 150),\n",
    "    batch_size=32,\n",
    "    class_mode='binary'\n",
    ")"
   ]
  },
  {
   "cell_type": "code",
   "execution_count": 44,
   "metadata": {},
   "outputs": [
    {
     "name": "stderr",
     "output_type": "stream",
     "text": [
      "/var/folders/5k/1gm98l3s7l541jt9yyg0qb6w0000gn/T/ipykernel_45604/1310431958.py:1: UserWarning: `Model.fit_generator` is deprecated and will be removed in a future version. Please use `Model.fit`, which supports generators.\n",
      "  history1 = model.fit_generator(\n"
     ]
    },
    {
     "name": "stdout",
     "output_type": "stream",
     "text": [
      "Epoch 1/100\n",
      "100/100 [==============================] - 102s 993ms/step - loss: 0.6923 - acc: 0.5260 - val_loss: 0.6711 - val_acc: 0.5760\n",
      "Epoch 2/100\n",
      "100/100 [==============================] - 98s 979ms/step - loss: 0.6699 - acc: 0.5735 - val_loss: 0.6534 - val_acc: 0.6190\n",
      "Epoch 3/100\n",
      "100/100 [==============================] - 90s 902ms/step - loss: 0.6387 - acc: 0.6380 - val_loss: 0.6594 - val_acc: 0.5870\n",
      "Epoch 4/100\n",
      "100/100 [==============================] - 111s 1s/step - loss: 0.5986 - acc: 0.6590 - val_loss: 0.6145 - val_acc: 0.6580\n",
      "Epoch 5/100\n",
      "100/100 [==============================] - 107s 1s/step - loss: 0.5659 - acc: 0.7060 - val_loss: 0.6353 - val_acc: 0.6460\n",
      "Epoch 6/100\n",
      "100/100 [==============================] - 93s 932ms/step - loss: 0.5477 - acc: 0.7175 - val_loss: 0.5846 - val_acc: 0.6850\n",
      "Epoch 7/100\n",
      "100/100 [==============================] - 104s 1s/step - loss: 0.5255 - acc: 0.7325 - val_loss: 0.6587 - val_acc: 0.6450\n",
      "Epoch 8/100\n",
      "100/100 [==============================] - 103s 1s/step - loss: 0.5111 - acc: 0.7485 - val_loss: 0.5753 - val_acc: 0.6960\n",
      "Epoch 9/100\n",
      "100/100 [==============================] - 97s 955ms/step - loss: 0.4786 - acc: 0.7675 - val_loss: 0.5822 - val_acc: 0.6980\n",
      "Epoch 10/100\n",
      "100/100 [==============================] - 102s 1s/step - loss: 0.4661 - acc: 0.7730 - val_loss: 0.5543 - val_acc: 0.7150\n",
      "Epoch 11/100\n",
      "100/100 [==============================] - 97s 972ms/step - loss: 0.4493 - acc: 0.7840 - val_loss: 0.5892 - val_acc: 0.7080\n",
      "Epoch 12/100\n",
      "100/100 [==============================] - 100s 1s/step - loss: 0.4360 - acc: 0.8025 - val_loss: 0.5545 - val_acc: 0.7170\n",
      "Epoch 13/100\n",
      "100/100 [==============================] - 94s 936ms/step - loss: 0.4157 - acc: 0.8110 - val_loss: 0.5513 - val_acc: 0.7300\n",
      "Epoch 14/100\n",
      "100/100 [==============================] - 95s 957ms/step - loss: 0.3991 - acc: 0.8200 - val_loss: 0.5552 - val_acc: 0.7230\n",
      "Epoch 15/100\n",
      "100/100 [==============================] - 122s 1s/step - loss: 0.3890 - acc: 0.8240 - val_loss: 0.5578 - val_acc: 0.7200\n",
      "Epoch 16/100\n",
      "100/100 [==============================] - 100s 1s/step - loss: 0.3651 - acc: 0.8335 - val_loss: 0.5389 - val_acc: 0.7370\n",
      "Epoch 17/100\n",
      "100/100 [==============================] - 101s 1s/step - loss: 0.3628 - acc: 0.8395 - val_loss: 0.5949 - val_acc: 0.7330\n",
      "Epoch 18/100\n",
      "100/100 [==============================] - 110s 1s/step - loss: 0.3358 - acc: 0.8535 - val_loss: 0.6479 - val_acc: 0.7110\n",
      "Epoch 19/100\n",
      "100/100 [==============================] - 97s 969ms/step - loss: 0.3228 - acc: 0.8630 - val_loss: 0.5340 - val_acc: 0.7520\n",
      "Epoch 20/100\n",
      "100/100 [==============================] - 88s 878ms/step - loss: 0.3068 - acc: 0.8675 - val_loss: 0.5814 - val_acc: 0.7320\n",
      "Epoch 21/100\n",
      "100/100 [==============================] - 95s 950ms/step - loss: 0.3044 - acc: 0.8660 - val_loss: 0.5730 - val_acc: 0.7350\n",
      "Epoch 22/100\n",
      "100/100 [==============================] - 106s 1s/step - loss: 0.2804 - acc: 0.8805 - val_loss: 0.6580 - val_acc: 0.7290\n",
      "Epoch 23/100\n",
      "100/100 [==============================] - 107s 1s/step - loss: 0.2747 - acc: 0.8830 - val_loss: 0.5839 - val_acc: 0.7400\n",
      "Epoch 24/100\n",
      "100/100 [==============================] - 91s 909ms/step - loss: 0.2588 - acc: 0.8910 - val_loss: 0.6233 - val_acc: 0.7200\n",
      "Epoch 25/100\n",
      "100/100 [==============================] - 75s 752ms/step - loss: 0.2509 - acc: 0.8915 - val_loss: 0.5889 - val_acc: 0.7330\n",
      "Epoch 26/100\n",
      "100/100 [==============================] - 82s 823ms/step - loss: 0.2292 - acc: 0.9090 - val_loss: 0.6024 - val_acc: 0.7570\n",
      "Epoch 27/100\n",
      "100/100 [==============================] - 76s 764ms/step - loss: 0.2254 - acc: 0.9050 - val_loss: 0.6097 - val_acc: 0.7450\n",
      "Epoch 28/100\n",
      "100/100 [==============================] - 87s 869ms/step - loss: 0.2277 - acc: 0.9055 - val_loss: 0.6240 - val_acc: 0.7420\n",
      "Epoch 29/100\n",
      "100/100 [==============================] - 105s 1s/step - loss: 0.2011 - acc: 0.9265 - val_loss: 0.5869 - val_acc: 0.7570\n",
      "Epoch 30/100\n",
      "100/100 [==============================] - 86s 855ms/step - loss: 0.2015 - acc: 0.9175 - val_loss: 0.5876 - val_acc: 0.7610\n",
      "Epoch 31/100\n",
      "100/100 [==============================] - 92s 923ms/step - loss: 0.1887 - acc: 0.9225 - val_loss: 0.7959 - val_acc: 0.7210\n",
      "Epoch 32/100\n",
      "100/100 [==============================] - 109s 1s/step - loss: 0.1661 - acc: 0.9385 - val_loss: 0.6279 - val_acc: 0.7490\n",
      "Epoch 33/100\n",
      "100/100 [==============================] - 95s 949ms/step - loss: 0.1717 - acc: 0.9295 - val_loss: 0.6127 - val_acc: 0.7480\n",
      "Epoch 34/100\n",
      "100/100 [==============================] - 86s 856ms/step - loss: 0.1673 - acc: 0.9365 - val_loss: 0.6268 - val_acc: 0.7670\n",
      "Epoch 35/100\n",
      "100/100 [==============================] - 88s 878ms/step - loss: 0.1440 - acc: 0.9480 - val_loss: 0.6561 - val_acc: 0.7610\n",
      "Epoch 36/100\n",
      "100/100 [==============================] - 91s 913ms/step - loss: 0.1573 - acc: 0.9400 - val_loss: 0.6471 - val_acc: 0.7590\n",
      "Epoch 37/100\n",
      "100/100 [==============================] - 99s 988ms/step - loss: 0.1304 - acc: 0.9520 - val_loss: 0.6695 - val_acc: 0.7650\n",
      "Epoch 38/100\n",
      "100/100 [==============================] - 75s 751ms/step - loss: 0.1297 - acc: 0.9490 - val_loss: 0.6861 - val_acc: 0.7670\n",
      "Epoch 39/100\n",
      "100/100 [==============================] - 73s 732ms/step - loss: 0.1291 - acc: 0.9480 - val_loss: 0.6966 - val_acc: 0.7630\n",
      "Epoch 40/100\n",
      "100/100 [==============================] - 75s 755ms/step - loss: 0.1154 - acc: 0.9590 - val_loss: 0.7148 - val_acc: 0.7500\n",
      "Epoch 41/100\n",
      "100/100 [==============================] - 78s 782ms/step - loss: 0.1190 - acc: 0.9550 - val_loss: 0.6982 - val_acc: 0.7640\n",
      "Epoch 42/100\n",
      "100/100 [==============================] - 74s 735ms/step - loss: 0.1051 - acc: 0.9645 - val_loss: 0.7529 - val_acc: 0.7580\n",
      "Epoch 43/100\n",
      "100/100 [==============================] - 71s 712ms/step - loss: 0.1068 - acc: 0.9565 - val_loss: 0.7376 - val_acc: 0.7630\n",
      "Epoch 44/100\n",
      "100/100 [==============================] - 75s 755ms/step - loss: 0.0969 - acc: 0.9650 - val_loss: 0.7232 - val_acc: 0.7680\n",
      "Epoch 45/100\n",
      "100/100 [==============================] - 77s 770ms/step - loss: 0.0905 - acc: 0.9675 - val_loss: 0.7559 - val_acc: 0.7640\n",
      "Epoch 46/100\n",
      "100/100 [==============================] - 65s 647ms/step - loss: 0.0915 - acc: 0.9645 - val_loss: 0.7463 - val_acc: 0.7660\n",
      "Epoch 47/100\n",
      "100/100 [==============================] - 68s 678ms/step - loss: 0.0916 - acc: 0.9660 - val_loss: 0.7631 - val_acc: 0.7670\n",
      "Epoch 48/100\n",
      "100/100 [==============================] - 67s 665ms/step - loss: 0.0786 - acc: 0.9735 - val_loss: 0.7473 - val_acc: 0.7720\n",
      "Epoch 49/100\n",
      "100/100 [==============================] - 63s 633ms/step - loss: 0.0730 - acc: 0.9750 - val_loss: 0.7957 - val_acc: 0.7620\n",
      "Epoch 50/100\n",
      "100/100 [==============================] - 63s 631ms/step - loss: 0.0731 - acc: 0.9725 - val_loss: 0.8328 - val_acc: 0.7620\n",
      "Epoch 51/100\n",
      "100/100 [==============================] - 63s 628ms/step - loss: 0.0682 - acc: 0.9780 - val_loss: 0.8769 - val_acc: 0.7670\n",
      "Epoch 52/100\n",
      "100/100 [==============================] - 62s 623ms/step - loss: 0.0790 - acc: 0.9705 - val_loss: 0.8515 - val_acc: 0.7650\n",
      "Epoch 53/100\n",
      "100/100 [==============================] - 62s 625ms/step - loss: 0.0607 - acc: 0.9785 - val_loss: 0.9491 - val_acc: 0.7560\n",
      "Epoch 54/100\n",
      "100/100 [==============================] - 69s 692ms/step - loss: 0.0756 - acc: 0.9730 - val_loss: 0.8565 - val_acc: 0.7620\n",
      "Epoch 55/100\n",
      "100/100 [==============================] - 84s 841ms/step - loss: 0.0615 - acc: 0.9820 - val_loss: 0.9561 - val_acc: 0.7510\n",
      "Epoch 56/100\n",
      "100/100 [==============================] - 120s 1s/step - loss: 0.0600 - acc: 0.9785 - val_loss: 0.8574 - val_acc: 0.7670\n",
      "Epoch 57/100\n",
      "100/100 [==============================] - 131s 1s/step - loss: 0.0604 - acc: 0.9780 - val_loss: 1.0442 - val_acc: 0.7420\n",
      "Epoch 58/100\n",
      "100/100 [==============================] - 93s 927ms/step - loss: 0.0601 - acc: 0.9795 - val_loss: 0.9446 - val_acc: 0.7560\n",
      "Epoch 59/100\n",
      "100/100 [==============================] - 86s 856ms/step - loss: 0.0539 - acc: 0.9785 - val_loss: 0.9618 - val_acc: 0.7580\n",
      "Epoch 60/100\n",
      "100/100 [==============================] - 83s 835ms/step - loss: 0.0569 - acc: 0.9820 - val_loss: 0.8943 - val_acc: 0.7650\n",
      "Epoch 61/100\n",
      "100/100 [==============================] - 96s 964ms/step - loss: 0.0468 - acc: 0.9810 - val_loss: 1.0417 - val_acc: 0.7500\n",
      "Epoch 62/100\n",
      "100/100 [==============================] - 28948s 292s/step - loss: 0.0497 - acc: 0.9830 - val_loss: 0.9806 - val_acc: 0.7540\n",
      "Epoch 63/100\n",
      "100/100 [==============================] - 141s 1s/step - loss: 0.0493 - acc: 0.9835 - val_loss: 0.9257 - val_acc: 0.7780\n",
      "Epoch 64/100\n",
      "100/100 [==============================] - 973s 10s/step - loss: 0.0571 - acc: 0.9800 - val_loss: 0.9243 - val_acc: 0.7740\n",
      "Epoch 65/100\n",
      "100/100 [==============================] - 499s 5s/step - loss: 0.0414 - acc: 0.9855 - val_loss: 0.9503 - val_acc: 0.7710\n",
      "Epoch 66/100\n",
      "100/100 [==============================] - 105s 1s/step - loss: 0.0352 - acc: 0.9890 - val_loss: 0.9576 - val_acc: 0.7730\n",
      "Epoch 67/100\n",
      "100/100 [==============================] - 115s 1s/step - loss: 0.0438 - acc: 0.9850 - val_loss: 0.9711 - val_acc: 0.7630\n",
      "Epoch 68/100\n",
      "100/100 [==============================] - 119s 1s/step - loss: 0.0412 - acc: 0.9840 - val_loss: 1.1869 - val_acc: 0.7500\n",
      "Epoch 69/100\n",
      "100/100 [==============================] - 93s 932ms/step - loss: 0.0442 - acc: 0.9845 - val_loss: 0.9894 - val_acc: 0.7700\n",
      "Epoch 70/100\n",
      "100/100 [==============================] - 106s 1s/step - loss: 0.0390 - acc: 0.9865 - val_loss: 1.0378 - val_acc: 0.7820\n",
      "Epoch 71/100\n",
      "100/100 [==============================] - 72s 722ms/step - loss: 0.0387 - acc: 0.9875 - val_loss: 1.1247 - val_acc: 0.7550\n",
      "Epoch 72/100\n",
      "100/100 [==============================] - 82s 820ms/step - loss: 0.0414 - acc: 0.9860 - val_loss: 1.0800 - val_acc: 0.7680\n",
      "Epoch 73/100\n",
      "100/100 [==============================] - 82s 814ms/step - loss: 0.0358 - acc: 0.9865 - val_loss: 0.9798 - val_acc: 0.7750\n",
      "Epoch 74/100\n",
      "100/100 [==============================] - 77s 775ms/step - loss: 0.0311 - acc: 0.9895 - val_loss: 1.0395 - val_acc: 0.7740\n",
      "Epoch 75/100\n",
      "100/100 [==============================] - 97s 974ms/step - loss: 0.0388 - acc: 0.9845 - val_loss: 1.1384 - val_acc: 0.7440\n",
      "Epoch 76/100\n",
      "100/100 [==============================] - 84s 841ms/step - loss: 0.0439 - acc: 0.9850 - val_loss: 1.0636 - val_acc: 0.7720\n",
      "Epoch 77/100\n",
      "100/100 [==============================] - 82s 824ms/step - loss: 0.0403 - acc: 0.9870 - val_loss: 1.0830 - val_acc: 0.7750\n",
      "Epoch 78/100\n",
      "100/100 [==============================] - 83s 827ms/step - loss: 0.0384 - acc: 0.9850 - val_loss: 1.0607 - val_acc: 0.7790\n",
      "Epoch 79/100\n",
      "100/100 [==============================] - 72s 715ms/step - loss: 0.0323 - acc: 0.9880 - val_loss: 1.0462 - val_acc: 0.7700\n",
      "Epoch 80/100\n",
      "100/100 [==============================] - 74s 741ms/step - loss: 0.0393 - acc: 0.9870 - val_loss: 1.0739 - val_acc: 0.7670\n",
      "Epoch 81/100\n",
      "100/100 [==============================] - 78s 779ms/step - loss: 0.0324 - acc: 0.9880 - val_loss: 1.0602 - val_acc: 0.7750\n",
      "Epoch 82/100\n",
      "100/100 [==============================] - 79s 792ms/step - loss: 0.0342 - acc: 0.9875 - val_loss: 1.0559 - val_acc: 0.7710\n",
      "Epoch 83/100\n",
      "100/100 [==============================] - 106s 1s/step - loss: 0.0305 - acc: 0.9860 - val_loss: 1.1490 - val_acc: 0.7630\n",
      "Epoch 84/100\n",
      "100/100 [==============================] - 86s 856ms/step - loss: 0.0304 - acc: 0.9895 - val_loss: 1.1394 - val_acc: 0.7700\n",
      "Epoch 85/100\n",
      "100/100 [==============================] - 92s 919ms/step - loss: 0.0345 - acc: 0.9895 - val_loss: 1.2702 - val_acc: 0.7440\n",
      "Epoch 86/100\n",
      "100/100 [==============================] - 79s 780ms/step - loss: 0.0308 - acc: 0.9905 - val_loss: 1.1564 - val_acc: 0.7690\n",
      "Epoch 87/100\n",
      "100/100 [==============================] - 72s 722ms/step - loss: 0.0236 - acc: 0.9930 - val_loss: 1.1727 - val_acc: 0.7740\n",
      "Epoch 88/100\n",
      "100/100 [==============================] - 103s 1s/step - loss: 0.0302 - acc: 0.9880 - val_loss: 1.1143 - val_acc: 0.7840\n",
      "Epoch 89/100\n",
      "100/100 [==============================] - 118s 1s/step - loss: 0.0264 - acc: 0.9905 - val_loss: 1.1460 - val_acc: 0.7740\n",
      "Epoch 90/100\n",
      "100/100 [==============================] - 84s 835ms/step - loss: 0.0247 - acc: 0.9930 - val_loss: 1.1640 - val_acc: 0.7760\n",
      "Epoch 91/100\n",
      "100/100 [==============================] - 76s 756ms/step - loss: 0.0293 - acc: 0.9910 - val_loss: 1.1075 - val_acc: 0.7610\n",
      "Epoch 92/100\n",
      "100/100 [==============================] - 161s 2s/step - loss: 0.0367 - acc: 0.9860 - val_loss: 1.2375 - val_acc: 0.7620\n",
      "Epoch 93/100\n",
      "100/100 [==============================] - 102s 1s/step - loss: 0.0241 - acc: 0.9935 - val_loss: 1.1058 - val_acc: 0.7800\n",
      "Epoch 94/100\n",
      "100/100 [==============================] - 83s 830ms/step - loss: 0.0347 - acc: 0.9895 - val_loss: 1.1627 - val_acc: 0.7740\n",
      "Epoch 95/100\n",
      "100/100 [==============================] - 85s 848ms/step - loss: 0.0218 - acc: 0.9910 - val_loss: 1.2635 - val_acc: 0.7640\n",
      "Epoch 96/100\n",
      "100/100 [==============================] - 87s 868ms/step - loss: 0.0254 - acc: 0.9925 - val_loss: 1.1914 - val_acc: 0.7730\n",
      "Epoch 97/100\n",
      "100/100 [==============================] - 98s 981ms/step - loss: 0.0301 - acc: 0.9900 - val_loss: 1.2439 - val_acc: 0.7710\n",
      "Epoch 98/100\n",
      "100/100 [==============================] - 97s 968ms/step - loss: 0.0266 - acc: 0.9895 - val_loss: 1.1622 - val_acc: 0.7680\n",
      "Epoch 99/100\n",
      "100/100 [==============================] - 87s 871ms/step - loss: 0.0224 - acc: 0.9945 - val_loss: 1.3150 - val_acc: 0.7640\n",
      "Epoch 100/100\n",
      "100/100 [==============================] - 93s 924ms/step - loss: 0.0265 - acc: 0.9930 - val_loss: 1.1711 - val_acc: 0.7680\n"
     ]
    }
   ],
   "source": [
    "history1 = model.fit_generator(\n",
    "    train_generator,\n",
    "    steps_per_epoch=100,\n",
    "    epochs=100,\n",
    "    validation_data=validation_generator,\n",
    "    validation_steps=50\n",
    ")"
   ]
  },
  {
   "cell_type": "code",
   "execution_count": 56,
   "metadata": {},
   "outputs": [
    {
     "data": {
      "image/png": "[encoded data removed]",
      "text/plain": [
       "<Figure size 640x480 with 1 Axes>"
      ]
     },
     "metadata": {},
     "output_type": "display_data"
    },
    {
     "data": {
      "image/png": "[encoded data removed]",
      "text/plain": [
       "<Figure size 640x480 with 1 Axes>"
      ]
     },
     "metadata": {},
     "output_type": "display_data"
    }
   ],
   "source": [
    "acc_1 = history1.history['acc']\n",
    "val_acc_1 = history1.history['val_acc']\n",
    "loss_1 = history1.history['loss']\n",
    "val_loss_1 = history1.history['val_loss']\n",
    "\n",
    "epochs = range(1, len(acc_1) + 1)\n",
    "\n",
    "plt.plot(epochs, acc_1, 'bo', label='Training acc')\n",
    "plt.plot(epochs, val_acc_1, 'b', label='Validation acc')\n",
    "plt.title('Training and Validation accuracy')\n",
    "plt.legend()\n",
    "\n",
    "plt.figure()\n",
    "\n",
    "plt.plot(epochs, loss_1, 'bo', label='Training loss')\n",
    "plt.plot(epochs, val_loss_1, 'b', label='Validation loss')\n",
    "plt.title('Training and Validation loss')\n",
    "plt.legend()\n",
    "\n",
    "plt.show()"
   ]
  },
  {
   "cell_type": "code",
   "execution_count": 53,
   "metadata": {},
   "outputs": [],
   "source": [
    "# saving the model\n",
    "model.save('cats_vs_dogs_small_v2.h5')"
   ]
  },
  {
   "cell_type": "code",
   "execution_count": 54,
   "metadata": {},
   "outputs": [
    {
     "name": "stderr",
     "output_type": "stream",
     "text": [
      "WARNING:absl:Found untraced functions such as _jit_compiled_convolution_op, _jit_compiled_convolution_op, _jit_compiled_convolution_op, _jit_compiled_convolution_op while saving (showing 4 of 4). These functions will not be directly callable after loading.\n"
     ]
    },
    {
     "name": "stdout",
     "output_type": "stream",
     "text": [
      "INFO:tensorflow:Assets written to: /var/folders/5k/1gm98l3s7l541jt9yyg0qb6w0000gn/T/tmpc45rjzcm/assets\n"
     ]
    },
    {
     "name": "stderr",
     "output_type": "stream",
     "text": [
      "INFO:tensorflow:Assets written to: /var/folders/5k/1gm98l3s7l541jt9yyg0qb6w0000gn/T/tmpc45rjzcm/assets\n",
      "2023-06-27 16:59:34.728109: W tensorflow/compiler/mlir/lite/python/tf_tfl_flatbuffer_helpers.cc:362] Ignored output_format.\n",
      "2023-06-27 16:59:34.729986: W tensorflow/compiler/mlir/lite/python/tf_tfl_flatbuffer_helpers.cc:365] Ignored drop_control_dependency.\n",
      "2023-06-27 16:59:34.741856: I tensorflow/cc/saved_model/reader.cc:45] Reading SavedModel from: /var/folders/5k/1gm98l3s7l541jt9yyg0qb6w0000gn/T/tmpc45rjzcm\n",
      "2023-06-27 16:59:34.755300: I tensorflow/cc/saved_model/reader.cc:89] Reading meta graph with tags { serve }\n",
      "2023-06-27 16:59:34.755354: I tensorflow/cc/saved_model/reader.cc:130] Reading SavedModel debug info (if present) from: /var/folders/5k/1gm98l3s7l541jt9yyg0qb6w0000gn/T/tmpc45rjzcm\n",
      "2023-06-27 16:59:34.803596: I tensorflow/cc/saved_model/loader.cc:229] Restoring SavedModel bundle.\n",
      "2023-06-27 16:59:35.111336: I tensorflow/cc/saved_model/loader.cc:213] Running initialization op on SavedModel bundle at path: /var/folders/5k/1gm98l3s7l541jt9yyg0qb6w0000gn/T/tmpc45rjzcm\n",
      "2023-06-27 16:59:35.139637: I tensorflow/cc/saved_model/loader.cc:305] SavedModel load for tags { serve }; Status: success: OK. Took 397679 microseconds.\n"
     ]
    }
   ],
   "source": [
    "import tensorflow as tf\n",
    "from tensorflow import keras\n",
    "\n",
    "# Load the Keras model\n",
    "model = keras.models.load_model('cats_vs_dogs_small_v2.h5')\n",
    "\n",
    "# Convert the model to TensorFlow Lite format\n",
    "converter = tf.lite.TFLiteConverter.from_keras_model(model)\n",
    "tflite_model = converter.convert()\n",
    "\n",
    "# Save the TensorFlow Lite model\n",
    "with open('cats_vs_dogs_small_v2.tflite', 'wb') as f:\n",
    "    f.write(tflite_model)"
   ]
  },
  {
   "cell_type": "code",
   "execution_count": null,
   "metadata": {},
   "outputs": [],
   "source": []
  }
 ],
 "metadata": {
  "kernelspec": {
   "display_name": "data",
   "language": "python",
   "name": "python3"
  },
  "language_info": {
   "codemirror_mode": {
    "name": "ipython",
    "version": 3
   },
   "file_extension": ".py",
   "mimetype": "text/x-python",
   "name": "python",
   "nbconvert_exporter": "python",
   "pygments_lexer": "ipython3",
   "version": "3.9.7"
  },
  "orig_nbformat": 4
 },
 "nbformat": 4,
 "nbformat_minor": 2
}
